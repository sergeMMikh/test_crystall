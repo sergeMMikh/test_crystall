{
 "cells": [
  {
   "cell_type": "code",
   "execution_count": 20,
   "metadata": {},
   "outputs": [],
   "source": [
    "import asyncio\n",
    "# import psycopg\n",
    "from sqlalchemy.ext.asyncio import create_async_engine, async_sessionmaker, AsyncSession\n",
    "from sqlalchemy.orm import Session, sessionmaker\n",
    "from sqlalchemy import text, create_engine, select, MetaData\n",
    "from config import settings"
   ]
  },
  {
   "cell_type": "code",
   "execution_count": 21,
   "metadata": {},
   "outputs": [],
   "source": [
    "# Настройка синхронного двигателя\n",
    "sync_engine = create_engine(\n",
    "    url=settings.DATABASE_URL_psycopg,\n",
    "    echo=False,\n",
    "    pool_size=5,\n",
    "    max_overflow=10,\n",
    ")\n",
    "\n",
    "# Настройка асинхронного двигателя\n",
    "async_engine = create_async_engine(\n",
    "    url=settings.DATABASE_URL_asyncpg,\n",
    "    echo=False,\n",
    "    pool_size=5,\n",
    "    max_overflow=10,\n",
    ")\n",
    "\n",
    "# Создание фабрик сессий\n",
    "sync_session = sessionmaker(sync_engine)\n",
    "async_session = async_sessionmaker(async_engine, expire_on_commit=False)\n",
    "\n",
    "metadata = MetaData()"
   ]
  },
  {
   "cell_type": "code",
   "execution_count": 22,
   "metadata": {},
   "outputs": [],
   "source": [
    "async def get_async():\n",
    "    # Создание асинхронной сессии\n",
    "    async with async_session() as session:\n",
    "        async with session.begin():  # Начало транзакции\n",
    "            # Выполнение запроса\n",
    "            result = await session.execute(text(\"SELECT VERSION()\"))  \n",
    "            version = result.scalar_one()  # Получение одного значения\n",
    "            print(f\"Database version: {version}\")\n",
    "\n",
    "            # Повторный запрос для получения строк, если требуется\n",
    "            result = await session.execute(text(\"SELECT VERSION()\"))  \n",
    "            first_row = result.first()\n",
    "            print(f'{first_row=}')  # Первая строка результата (если есть)\n",
    "\n",
    "            # Итерация по результату\n",
    "            result = await session.execute(text(\"SELECT VERSION()\"))\n",
    "            for row in result:\n",
    "                print(f\"Database version: {row[0]}\")\n"
   ]
  },
  {
   "cell_type": "code",
   "execution_count": 23,
   "metadata": {},
   "outputs": [
    {
     "name": "stdout",
     "output_type": "stream",
     "text": [
      "Database version: PostgreSQL 17.2 (Debian 17.2-1.pgdg120+1) on x86_64-pc-linux-gnu, compiled by gcc (Debian 12.2.0-14) 12.2.0, 64-bit\n",
      "first_row=('PostgreSQL 17.2 (Debian 17.2-1.pgdg120+1) on x86_64-pc-linux-gnu, compiled by gcc (Debian 12.2.0-14) 12.2.0, 64-bit',)\n",
      "Database version: PostgreSQL 17.2 (Debian 17.2-1.pgdg120+1) on x86_64-pc-linux-gnu, compiled by gcc (Debian 12.2.0-14) 12.2.0, 64-bit\n"
     ]
    }
   ],
   "source": [
    "# Запуск асинхронной функции\n",
    "# asyncio.run(get_async())\n",
    "\n",
    "await get_async()"
   ]
  },
  {
   "cell_type": "code",
   "execution_count": 24,
   "metadata": {},
   "outputs": [
    {
     "name": "stdout",
     "output_type": "stream",
     "text": [
      "1\n",
      "[4, 5, 6]\n",
      "{'lesson_id': 1, 'student_ids': [4, 5, 6], 'training_check': [{'repetitions': 5, 'training_id': 1}, {'repetitions': 8, 'training_id': 2}]}\n"
     ]
    }
   ],
   "source": [
    "data = {'lesson_id': 1,\n",
    " 'students_id': [4, 5, 6],\n",
    " 'training_check': [{'repetitions': 5, 'training_id': 1},\n",
    "                    {'repetitions': 8, 'training_id': 2}]}\n",
    "\n",
    "print(data.get(\"lesson_id\"))\n",
    "student_ids=data.get(\"students_id\")\n",
    "print(student_ids)\n",
    "\n",
    "data2 = {'lesson_id': 1,\n",
    "         'student_ids': data.get(\"students_id\"),\n",
    "         'training_check': data.get(\"training_check\")}\n",
    "\n",
    "print(data2)"
   ]
  },
  {
   "cell_type": "code",
   "execution_count": 44,
   "metadata": {},
   "outputs": [
    {
     "name": "stdout",
     "output_type": "stream",
     "text": [
      "[{'avatar': None,\n",
      "  'birthday': datetime.datetime(2020, 6, 10, 15, 41, 16, 490000),\n",
      "  'code': None,\n",
      "  'contact': 'string',\n",
      "  'date_add': datetime.datetime(2024, 12, 31, 16, 23, 6, 416639),\n",
      "  'date_update': datetime.datetime(2024, 12, 31, 16, 23, 6, 416643),\n",
      "  'deleted': False,\n",
      "  'email': 'student50@example.com',\n",
      "  'extended_id': None,\n",
      "  'firstname': 'student50',\n",
      "  'hashed_password': b'$2b$12$VwFxBanEqA7aM.opPtBceOEkHlSwODjrhkSFABNUqO36vG6yY'\n",
      "                     b'fKQm',\n",
      "  'id': 4,\n",
      "  'is_active': True,\n",
      "  'is_man': True,\n",
      "  'is_superuser': False,\n",
      "  'is_verified': True,\n",
      "  'lastname': 'studentov50',\n",
      "  'photo': None,\n",
      "  'rank_id': None,\n",
      "  'role': 'student',\n",
      "  'surname': 'studentovich50'}]\n"
     ]
    }
   ],
   "source": [
    "from pprint import pprint\n",
    "\n",
    "async def get_async():\n",
    "    # Создание асинхронной сессии\n",
    "    async with async_session() as session:\n",
    "        async with session.begin():  # Начало транзакции\n",
    "            # Выполнение запроса\n",
    "            result = await session.execute(text('SELECT * FROM \"Users\" t where id = 4;'))  \n",
    "            \n",
    "            # Получение всех строк\n",
    "            rows = result.fetchall()\n",
    "            \n",
    "            # Преобразование каждой строки в словарь\n",
    "            rows_as_dict = [dict(row._mapping) for row in rows]\n",
    "\n",
    "            pprint(rows_as_dict)\n",
    "            \n",
    "\n",
    "            \n",
    "\n",
    "# Запуск асинхронной функции\n",
    "# asyncio.run(get_async())\n",
    "\n",
    "await get_async()"
   ]
  }
 ],
 "metadata": {
  "kernelspec": {
   "display_name": "env",
   "language": "python",
   "name": "python3"
  },
  "language_info": {
   "codemirror_mode": {
    "name": "ipython",
    "version": 3
   },
   "file_extension": ".py",
   "mimetype": "text/x-python",
   "name": "python",
   "nbconvert_exporter": "python",
   "pygments_lexer": "ipython3",
   "version": "3.12.3"
  }
 },
 "nbformat": 4,
 "nbformat_minor": 2
}
