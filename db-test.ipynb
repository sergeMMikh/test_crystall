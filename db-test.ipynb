{
 "cells": [
  {
   "cell_type": "code",
   "execution_count": 1,
   "metadata": {},
   "outputs": [],
   "source": [
    "import asyncio\n",
    "# import psycopg\n",
    "from sqlalchemy.ext.asyncio import create_async_engine, async_sessionmaker, AsyncSession\n",
    "from sqlalchemy.orm import Session, sessionmaker\n",
    "from sqlalchemy import text, create_engine\n",
    "from config import settings"
   ]
  },
  {
   "cell_type": "code",
   "execution_count": 2,
   "metadata": {},
   "outputs": [],
   "source": [
    "# Настройка синхронного двигателя\n",
    "sync_engine = create_engine(\n",
    "    url=settings.DATABASE_URL_psycopg,\n",
    "    echo=False,\n",
    "    pool_size=5,\n",
    "    max_overflow=10,\n",
    ")\n",
    "\n",
    "# Настройка асинхронного двигателя\n",
    "async_engine = create_async_engine(\n",
    "    url=settings.DATABASE_URL_asyncpg,\n",
    "    echo=False,\n",
    "    pool_size=5,\n",
    "    max_overflow=10,\n",
    ")"
   ]
  },
  {
   "cell_type": "code",
   "execution_count": 3,
   "metadata": {},
   "outputs": [],
   "source": [
    "async def get_async():\n",
    "    # Использование подключения\n",
    "    async with async_engine.connect() as conn:\n",
    "        result = await conn.execute(text(\"SELECT VERSION()\"))  # Используем text() для строки SQL\n",
    "        # for row in result:\n",
    "        #     print(f\"Database version: {row[0]}\")\n",
    "\n",
    "        print(f'{result.first()=}')"
   ]
  },
  {
   "cell_type": "code",
   "execution_count": 9,
   "metadata": {},
   "outputs": [
    {
     "name": "stdout",
     "output_type": "stream",
     "text": [
      "result.first()=('PostgreSQL 17.2 (Debian 17.2-1.pgdg120+1) on x86_64-pc-linux-gnu, compiled by gcc (Debian 12.2.0-14) 12.2.0, 64-bit',)\n"
     ]
    }
   ],
   "source": [
    "await get_async()"
   ]
  }
 ],
 "metadata": {
  "kernelspec": {
   "display_name": "env",
   "language": "python",
   "name": "python3"
  },
  "language_info": {
   "codemirror_mode": {
    "name": "ipython",
    "version": 3
   },
   "file_extension": ".py",
   "mimetype": "text/x-python",
   "name": "python",
   "nbconvert_exporter": "python",
   "pygments_lexer": "ipython3",
   "version": "3.12.3"
  }
 },
 "nbformat": 4,
 "nbformat_minor": 2
}
