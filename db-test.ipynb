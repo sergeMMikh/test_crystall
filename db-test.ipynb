{
 "cells": [
  {
   "cell_type": "code",
   "execution_count": 17,
   "metadata": {},
   "outputs": [],
   "source": [
    "import asyncio\n",
    "# import psycopg\n",
    "from sqlalchemy.ext.asyncio import create_async_engine, async_sessionmaker, AsyncSession\n",
    "from sqlalchemy.orm import Session, sessionmaker\n",
    "from sqlalchemy import text, create_engine, select, MetaData\n",
    "from config import settings"
   ]
  },
  {
   "cell_type": "code",
   "execution_count": 18,
   "metadata": {},
   "outputs": [],
   "source": [
    "# Настройка синхронного двигателя\n",
    "sync_engine = create_engine(\n",
    "    url=settings.DATABASE_URL_psycopg,\n",
    "    echo=False,\n",
    "    pool_size=5,\n",
    "    max_overflow=10,\n",
    ")\n",
    "\n",
    "# Настройка асинхронного двигателя\n",
    "async_engine = create_async_engine(\n",
    "    url=settings.DATABASE_URL_asyncpg,\n",
    "    echo=False,\n",
    "    pool_size=5,\n",
    "    max_overflow=10,\n",
    ")\n",
    "\n",
    "# Создание фабрик сессий\n",
    "sync_session = sessionmaker(sync_engine)\n",
    "async_session = async_sessionmaker(async_engine, expire_on_commit=False)\n",
    "\n",
    "metadata = MetaData()"
   ]
  },
  {
   "cell_type": "code",
   "execution_count": 25,
   "metadata": {},
   "outputs": [],
   "source": [
    "async def get_async():\n",
    "    # Создание асинхронной сессии\n",
    "    async with async_session() as session:\n",
    "        async with session.begin():  # Начало транзакции\n",
    "            # Выполнение запроса\n",
    "            result = await session.execute(text(\"SELECT VERSION()\"))  \n",
    "            version = result.scalar_one()  # Получение одного значения\n",
    "            print(f\"Database version: {version}\")\n",
    "\n",
    "            # Повторный запрос для получения строк, если требуется\n",
    "            result = await session.execute(text(\"SELECT VERSION()\"))  \n",
    "            first_row = result.first()\n",
    "            print(f'{first_row=}')  # Первая строка результата (если есть)\n",
    "\n",
    "            # Итерация по результату\n",
    "            result = await session.execute(text(\"SELECT VERSION()\"))\n",
    "            for row in result:\n",
    "                print(f\"Database version: {row[0]}\")\n"
   ]
  },
  {
   "cell_type": "code",
   "execution_count": 26,
   "metadata": {},
   "outputs": [
    {
     "name": "stdout",
     "output_type": "stream",
     "text": [
      "Database version: PostgreSQL 17.2 (Debian 17.2-1.pgdg120+1) on x86_64-pc-linux-gnu, compiled by gcc (Debian 12.2.0-14) 12.2.0, 64-bit\n",
      "first_row=('PostgreSQL 17.2 (Debian 17.2-1.pgdg120+1) on x86_64-pc-linux-gnu, compiled by gcc (Debian 12.2.0-14) 12.2.0, 64-bit',)\n",
      "Database version: PostgreSQL 17.2 (Debian 17.2-1.pgdg120+1) on x86_64-pc-linux-gnu, compiled by gcc (Debian 12.2.0-14) 12.2.0, 64-bit\n"
     ]
    }
   ],
   "source": [
    "# Запуск асинхронной функции\n",
    "# asyncio.run(get_async())\n",
    "\n",
    "await get_async()"
   ]
  }
 ],
 "metadata": {
  "kernelspec": {
   "display_name": "env",
   "language": "python",
   "name": "python3"
  },
  "language_info": {
   "codemirror_mode": {
    "name": "ipython",
    "version": 3
   },
   "file_extension": ".py",
   "mimetype": "text/x-python",
   "name": "python",
   "nbconvert_exporter": "python",
   "pygments_lexer": "ipython3",
   "version": "3.12.3"
  }
 },
 "nbformat": 4,
 "nbformat_minor": 2
}
